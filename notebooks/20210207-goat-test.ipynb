{
 "cells": [
  {
   "cell_type": "code",
   "execution_count": null,
   "metadata": {},
   "outputs": [],
   "source": [
    "import pandas as pd\n",
    "import cassiopeia as cass\n",
    "from cassiopeia import Summoner, Match"
   ]
  },
  {
   "cell_type": "code",
   "execution_count": null,
   "metadata": {},
   "outputs": [],
   "source": [
    "cass.set_riot_api_key('RGAPI-90829285-d1aa-4ab5-a06d-055a4c6674fe')  # This overrides the value set in your configuration/settings.\n"
   ]
  },
  {
   "cell_type": "code",
   "execution_count": null,
   "metadata": {},
   "outputs": [],
   "source": [
    "summoner = Summoner(name='Erao', region='LA1')\n",
    "match_history = summoner.match_history\n",
    "champion_id_to_name_mapping = {champion.id: champion.name for champion in cass.get_champions(region='LA1')}\n",
    "for g in games:\n",
    "    resposne = \n",
    "    for identity in response['participantIdentities']:\n",
    "        response['participants'][identity['participantId']-1]['team'], response['participants'][identity['participantId']-1]['summonerName'] = identity['player']['summonerName'].split(' ',1)\n",
    "        response['participants'][identity['participantId']-1]['role'] = roles[identity['participantId']-1]\n",
    "    game_data_list.append(response)\n",
    "players_dataframe = pd.json_normalize(game_data_list,'participants',['gameId',\n",
    " 'platformId',\n",
    " 'gameCreation',\n",
    " 'gameDuration',\n",
    " 'queueId',\n",
    " 'mapId',\n",
    " 'seasonId',\n",
    " 'gameVersion',\n",
    " 'gameMode',\n",
    " 'gameType',\n",
    "])\n"
   ]
  }
 ],
 "metadata": {
  "kernelspec": {
   "display_name": "Python 3",
   "language": "python",
   "name": "python3"
  },
  "language_info": {
   "codemirror_mode": {
    "name": "ipython",
    "version": 3
   },
   "file_extension": ".py",
   "mimetype": "text/x-python",
   "name": "python",
   "nbconvert_exporter": "python",
   "pygments_lexer": "ipython3",
   "version": "3.8.6"
  }
 },
 "nbformat": 4,
 "nbformat_minor": 4
}
